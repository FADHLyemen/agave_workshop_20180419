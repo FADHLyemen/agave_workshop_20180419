{
 "cells": [
  {
   "cell_type": "markdown",
   "metadata": {},
   "source": [
    "# Containers"
   ]
  },
  {
   "cell_type": "markdown",
   "metadata": {},
   "source": [
    "Hopefully by now your `docker-compose up` has pulled down the containers and launched them with the correct environment.  Your terminal/shell should indicate what the state is and there are a few commands we can use now that they are running."
   ]
  },
  {
   "cell_type": "markdown",
   "metadata": {},
   "source": [
    "### Listing Currently Running Docker Containers\n",
    "`docker ps`.  This command lists the containers we currently have running on the machine\n",
    "```\n",
    "sclevelands-MacBook-Pro:agave_workshop_20180419 scleveland$ docker ps\n",
    "CONTAINER ID        IMAGE                                   COMMAND                  CREATED             STATUS              PORTS                                                                NAMES\n",
    "c072e216d3fe        agaveplatform/training-sandbox:latest   \"/usr/local/bin/dock…\"   2 hours ago         Up 2 hours          4040/tcp, 0.0.0.0:10022->22/tcp                                      agaveworkshop20180419_sandbox_1\n",
    "8a89b59a64f5        agaveplatform/jenkins:sc18              \"/sbin/tini -- /dock…\"   2 hours ago         Up 2 hours          0.0.0.0:8080->8080/tcp, 0.0.0.0:8443->8443/tcp, 50000/tcp            agaveworkshop20180419_jenkins_1\n",
    "63d3f858337d        agaveplatform/jupyter-notebook:5.2      \"tini -- start-noteb…\"   2 hours ago         Up 2 hours          0.0.0.0:8888->8888/tcp                                               agaveworkshop20180419_jupyter_1\n",
    "c2ad8b974e5c        traefik:latest                          \"/traefik --debug=Tr…\"   2 hours ago         Up 2 hours          0.0.0.0:80->80/tcp, 0.0.0.0:443->443/tcp, 0.0.0.0:28443->28443/tcp   agaveworkshop20180419_traefik_1\n",
    "```"
   ]
  },
  {
   "cell_type": "markdown",
   "metadata": {},
   "source": [
    "In this example I have four containers running.  Each has a differnt `CONTAINER ID` and is a different `IMAGE`.\n",
    "\n",
    "The `IMAGE` is the container that was pulled from docker hub or created on the local machine."
   ]
  },
  {
   "cell_type": "markdown",
   "metadata": {},
   "source": [
    "### Listing All Docker Container Instances\n",
    "`docker ps -a` will show all container instances that have been run the current machine that have not been removed.\n",
    "```\n",
    "sclevelands-MacBook-Pro:agave_workshop_20180419 scleveland$ docker ps -a\n",
    "CONTAINER ID        IMAGE                                   COMMAND                  CREATED             STATUS                     PORTS                                                                NAMES\n",
    "c072e216d3fe        agaveplatform/training-sandbox:latest   \"/usr/local/bin/dock…\"   2 hours ago         Up 2 hours                 4040/tcp, 0.0.0.0:10022->22/tcp                                      agaveworkshop20180419_sandbox_1\n",
    "8a89b59a64f5        agaveplatform/jenkins:sc18              \"/sbin/tini -- /dock…\"   2 hours ago         Up 2 hours                 0.0.0.0:8080->8080/tcp, 0.0.0.0:8443->8443/tcp, 50000/tcp            agaveworkshop20180419_jenkins_1\n",
    "63d3f858337d        agaveplatform/jupyter-notebook:5.2      \"tini -- start-noteb…\"   2 hours ago         Up 2 hours                 0.0.0.0:8888->8888/tcp                                               agaveworkshop20180419_jupyter_1\n",
    "88ed35628dc6        agaveplatform/jupyter-notebook:5.2      \"/bin/bash /usr/loca…\"   2 hours ago         Exited (126) 2 hours ago                                                                        agaveworkshop20180419_ssh-keygen_1\n",
    "c2ad8b974e5c        traefik:latest                          \"/traefik --debug=Tr…\"   2 hours ago         Up 2 hours                 0.0.0.0:80->80/tcp, 0.0.0.0:443->443/tcp, 0.0.0.0:28443->28443/tcp   agaveworkshop20180419_traefik_1\n",
    "```\n",
    "You can see that there are five containers on the machine - four are running and one exited"
   ]
  },
  {
   "cell_type": "markdown",
   "metadata": {},
   "source": [
    "### Stopping A Container\n",
    "`docker stop container-id` will stop a running docker container\n",
    "\n",
    "Since we used `docker-compose up` to launch our container stack we would use `docker-compose down` to gracefully stop the containers used for this tutorial running on your laptop/server"
   ]
  },
  {
   "cell_type": "markdown",
   "metadata": {},
   "source": [
    "### Removing A Container\n",
    "`docker rm container-id` will remove a stopped container instance."
   ]
  },
  {
   "cell_type": "markdown",
   "metadata": {},
   "source": [
    "### Restarting A Container\n",
    "`docker run container-id` will restart a container instance.\n"
   ]
  },
  {
   "cell_type": "markdown",
   "metadata": {},
   "source": [
    "### Accessing A Running Container\n",
    "`docker exec -it container-id command` with exec a command on the running container.  If we want to access the container via a shell we could run `docker exec -it container-id /bin/bash` assuming the conatiner has the bash shell it would execute the shell in the container and we could then use bash to navigate the container.\n",
    "\n",
    "If I wanted to do this for the agaveplatform/training-sandbox:latest container with the id c072e216d3fe I would use the following:\n",
    "`docker exec -it c072e216d3fe  /bin/bash`\n",
    "and the result would look like:\n",
    "```bash\n",
    "sclevelands-MacBook-Pro:agave_workshop_20180419 scleveland$ docker exec -it c072e216d3fe /bin/bash\n",
    "root@c072e216d3fe:/home/jovyan/FUNWAVE-TVD/src# ls\n",
    "Makefile                     global.mod               mod_vessel.F\n",
    "Makefile-Lightning-Cray      init.F                   mod_vessel.o\n",
    "Makefile-Lightning-Intel     init.o                   nesting.F\n",
    "Makefile-Mills               input_read.mod           nesting.o\n",
    "Makefile-Mills-Spherical     io.F                     parallel.F\n",
    "Makefile-Mills-Vessel        io.o                     parallel.o\n",
    "Makefile-Topaz-intel         main.F                   parallel_field_io.mod\n",
    "Makefile-Topaz-sgi           main.o                   param.mod\n",
    "Makefile-Topaz-sgi-OpenSS    masks.F                  samples.F\n",
    "Makefile-funwaveRDE          masks.o                  samples.o\n",
    "bathy_correction_module.mod  misc.F                   sediment.F\n",
    "bc.F                         misc.o                   sources.F\n",
    "bc.o                         mixing.F                 sources.o\n",
    "breaker.F                    mixing.o                 sponge.F\n",
    "breaker.o                    mod_bathy_correction.F   sponge.o\n",
    "derivatives.F                mod_bathy_correction.o   statistics.F\n",
    "derivatives.o                mod_global.F             statistics.o\n",
    "dispersion.F                 mod_global.o             supervisord.log\n",
    "dispersion.o                 mod_input.F              supervisord.pid\n",
    "etauv_solver.F               mod_input.o              time_dt.out\n",
    "etauv_solver.o               mod_meteo.F              tridiagnal.F\n",
    "files.txt                    mod_meteo.o              tridiagnal.o\n",
    "fluxes.F                     mod_parallel_field_io.F  wavemaker.F\n",
    "fluxes.o                     mod_parallel_field_io.o  wavemaker.o\n",
    "fluxes_21v.F                 mod_param.F\n",
    "funwave_vessel               mod_param.o\n",
    "root@c072e216d3fe:/home/jovyan/FUNWAVE-TVD/src# exit\n",
    "```"
   ]
  },
  {
   "cell_type": "code",
   "execution_count": null,
   "metadata": {},
   "outputs": [],
   "source": []
  }
 ],
 "metadata": {
  "kernelspec": {
   "display_name": "Python 3",
   "language": "python",
   "name": "python3"
  },
  "language_info": {
   "codemirror_mode": {
    "name": "ipython",
    "version": 3
   },
   "file_extension": ".py",
   "mimetype": "text/x-python",
   "name": "python",
   "nbconvert_exporter": "python",
   "pygments_lexer": "ipython3",
   "version": "3.6.2"
  }
 },
 "nbformat": 4,
 "nbformat_minor": 2
}
