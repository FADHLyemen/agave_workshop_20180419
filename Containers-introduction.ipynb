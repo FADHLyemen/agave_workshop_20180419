{
 "cells": [
  {
   "cell_type": "markdown",
   "metadata": {},
   "source": [
    "# Docker Containers"
   ]
  },
  {
   "cell_type": "markdown",
   "metadata": {},
   "source": [
    "Hopefully by now your `docker-compose up` has pulled down the containers and launched them with the correct environment.  Your terminal/shell should indicate what the state is and there are a few commands we can use now that they are running."
   ]
  },
  {
   "cell_type": "markdown",
   "metadata": {},
   "source": [
    "### Listing Currently Running Docker Containers\n",
    "`docker ps`.  This command lists the containers we currently have running on the machine\n",
    "```\n",
    "sclevelands-MacBook-Pro:agave_workshop_20180419 scleveland$ docker ps\n",
    "CONTAINER ID        IMAGE                                   COMMAND                  CREATED             STATUS              PORTS                                                                NAMES\n",
    "c072e216d3fe        agaveplatform/training-sandbox:latest   \"/usr/local/bin/dock…\"   2 hours ago         Up 2 hours          4040/tcp, 0.0.0.0:10022->22/tcp                                      agaveworkshop20180419_sandbox_1\n",
    "8a89b59a64f5        agaveplatform/jenkins:sc18              \"/sbin/tini -- /dock…\"   2 hours ago         Up 2 hours          0.0.0.0:8080->8080/tcp, 0.0.0.0:8443->8443/tcp, 50000/tcp            agaveworkshop20180419_jenkins_1\n",
    "63d3f858337d        agaveplatform/jupyter-notebook:5.2      \"tini -- start-noteb…\"   2 hours ago         Up 2 hours          0.0.0.0:8888->8888/tcp                                               agaveworkshop20180419_jupyter_1\n",
    "c2ad8b974e5c        traefik:latest                          \"/traefik --debug=Tr…\"   2 hours ago         Up 2 hours          0.0.0.0:80->80/tcp, 0.0.0.0:443->443/tcp, 0.0.0.0:28443->28443/tcp   agaveworkshop20180419_traefik_1\n",
    "```"
   ]
  },
  {
   "cell_type": "markdown",
   "metadata": {},
   "source": [
    "In this example I have four containers running.  Each has a differnt `CONTAINER ID` and is a different `IMAGE`.\n",
    "\n",
    "The `IMAGE` is the container that was pulled from docker hub or created on the local machine."
   ]
  },
  {
   "cell_type": "markdown",
   "metadata": {},
   "source": [
    "### Listing All Docker Container Instances\n",
    "`docker ps -a` will show all container instances that have been run the current machine that have not been removed.\n",
    "```\n",
    "sclevelands-MacBook-Pro:agave_workshop_20180419 scleveland$ docker ps -a\n",
    "CONTAINER ID        IMAGE                                   COMMAND                  CREATED             STATUS                     PORTS                                                                NAMES\n",
    "c072e216d3fe        agaveplatform/training-sandbox:latest   \"/usr/local/bin/dock…\"   2 hours ago         Up 2 hours                 4040/tcp, 0.0.0.0:10022->22/tcp                                      agaveworkshop20180419_sandbox_1\n",
    "8a89b59a64f5        agaveplatform/jenkins:sc18              \"/sbin/tini -- /dock…\"   2 hours ago         Up 2 hours                 0.0.0.0:8080->8080/tcp, 0.0.0.0:8443->8443/tcp, 50000/tcp            agaveworkshop20180419_jenkins_1\n",
    "63d3f858337d        agaveplatform/jupyter-notebook:5.2      \"tini -- start-noteb…\"   2 hours ago         Up 2 hours                 0.0.0.0:8888->8888/tcp                                               agaveworkshop20180419_jupyter_1\n",
    "88ed35628dc6        agaveplatform/jupyter-notebook:5.2      \"/bin/bash /usr/loca…\"   2 hours ago         Exited (126) 2 hours ago                                                                        agaveworkshop20180419_ssh-keygen_1\n",
    "c2ad8b974e5c        traefik:latest                          \"/traefik --debug=Tr…\"   2 hours ago         Up 2 hours                 0.0.0.0:80->80/tcp, 0.0.0.0:443->443/tcp, 0.0.0.0:28443->28443/tcp   agaveworkshop20180419_traefik_1\n",
    "```\n",
    "You can see that there are five containers on the machine - four are running and one exited"
   ]
  },
  {
   "cell_type": "markdown",
   "metadata": {},
   "source": [
    "### Stopping A Container\n",
    "`docker stop container-id` will stop a running docker container\n",
    "\n",
    "Since we used `docker-compose up` to launch our container stack we would use `docker-compose down` to gracefully stop the containers used for this tutorial running on your laptop/server"
   ]
  },
  {
   "cell_type": "markdown",
   "metadata": {},
   "source": [
    "### Removing A Container\n",
    "`docker rm container-id` will remove a stopped container instance."
   ]
  },
  {
   "cell_type": "markdown",
   "metadata": {},
   "source": [
    "### Restarting A Container\n",
    "`docker run container-id` will restart a container instance.\n"
   ]
  },
  {
   "cell_type": "markdown",
   "metadata": {},
   "source": [
    "### Accessing A Running Container\n",
    "`docker exec -it container-id command` with exec a command on the running container.  If we want to access the container via a shell we could run `docker exec -it container-id /bin/bash` assuming the conatiner has the bash shell it would execute the shell in the container and we could then use bash to navigate the container.\n",
    "\n",
    "If I wanted to do this for the agaveplatform/training-sandbox:latest container with the id c072e216d3fe I would use the following:\n",
    "`docker exec -it c072e216d3fe  /bin/bash`\n",
    "and the result would look like:\n",
    "```bash\n",
    "sclevelands-MacBook-Pro:agave_workshop_20180419 scleveland$ docker exec -it c072e216d3fe /bin/bash\n",
    "root@c072e216d3fe:/home/jovyan/FUNWAVE-TVD/src# ls\n",
    "Makefile                     global.mod               mod_vessel.F\n",
    "Makefile-Lightning-Cray      init.F                   mod_vessel.o\n",
    "Makefile-Lightning-Intel     init.o                   nesting.F\n",
    "Makefile-Mills               input_read.mod           nesting.o\n",
    "Makefile-Mills-Spherical     io.F                     parallel.F\n",
    "Makefile-Mills-Vessel        io.o                     parallel.o\n",
    "Makefile-Topaz-intel         main.F                   parallel_field_io.mod\n",
    "Makefile-Topaz-sgi           main.o                   param.mod\n",
    "Makefile-Topaz-sgi-OpenSS    masks.F                  samples.F\n",
    "Makefile-funwaveRDE          masks.o                  samples.o\n",
    "bathy_correction_module.mod  misc.F                   sediment.F\n",
    "bc.F                         misc.o                   sources.F\n",
    "bc.o                         mixing.F                 sources.o\n",
    "breaker.F                    mixing.o                 sponge.F\n",
    "breaker.o                    mod_bathy_correction.F   sponge.o\n",
    "derivatives.F                mod_bathy_correction.o   statistics.F\n",
    "derivatives.o                mod_global.F             statistics.o\n",
    "dispersion.F                 mod_global.o             supervisord.log\n",
    "dispersion.o                 mod_input.F              supervisord.pid\n",
    "etauv_solver.F               mod_input.o              time_dt.out\n",
    "etauv_solver.o               mod_meteo.F              tridiagnal.F\n",
    "files.txt                    mod_meteo.o              tridiagnal.o\n",
    "fluxes.F                     mod_parallel_field_io.F  wavemaker.F\n",
    "fluxes.o                     mod_parallel_field_io.o  wavemaker.o\n",
    "fluxes_21v.F                 mod_param.F\n",
    "funwave_vessel               mod_param.o\n",
    "root@c072e216d3fe:/home/jovyan/FUNWAVE-TVD/src# exit\n",
    "```"
   ]
  },
  {
   "cell_type": "markdown",
   "metadata": {},
   "source": [
    "### Downloading a Docker Container\n",
    "`docker pull image-name` will fetch/download a docker container from Docker Hub.\n",
    "\n"
   ]
  },
  {
   "cell_type": "markdown",
   "metadata": {},
   "source": [
    "### Running A Docker Container\n",
    "If you are not using a docker-compose.yml file you can run a docker container with:\n",
    "`docker run -d image-name command`\n",
    "\n",
    "If you are running a container that you can access via port on your host machine you might want to bind the port numbers so you could do:\n",
    "`docker run -d -p 8888:8888 image-name command`\n",
    "This will bing port 8888 in the host (your laptop/server) to port 8888 in the container allowing you to access the container port 8888 on your host - much like the localhost:8888 used to access the jupyter server for this tutorial."
   ]
  },
  {
   "cell_type": "markdown",
   "metadata": {},
   "source": [
    "### Saving a Docker Container\n",
    "\n",
    "`docker commit container-id name-for-new-image` \n",
    "\n",
    "Will save a container instance to a new image name - so if you made changes to the container, installed new software, add files those will become part of the image."
   ]
  },
  {
   "cell_type": "markdown",
   "metadata": {},
   "source": [
    "### Docker Hub\n",
    "[Docker Hub](https://hub.docker.com/) hosts docker images that can be accessed with the `docker pull image-name`.\n",
    "\n",
    "To login to Docker Hub from your laptop/server after you have created an account:\n",
    "\n",
    "```\n",
    "docker login --username=yourhubusername --email=youremail@company.com\n",
    "```\n",
    "\n",
    "If you wish to push one of your docker images to Docker Hub you can do the following:\n",
    "\n",
    "```\n",
    "docker tag container-id yourhubusername/image-name:image-tag\n",
    "docker push yourhubusername/image-name:image-tag\n",
    "```\n",
    "The above names and tags the container image as specified and then uploads that image to Docker Hub in your repository space `yourhubusername`. Which would then be accessible as `https://hub.docker.com/r/yourhubusername/image-name/`"
   ]
  },
  {
   "cell_type": "markdown",
   "metadata": {},
   "source": [
    "## NO DOCKER ON UH HPC\n",
    "Why? It seems so awesome.\n",
    "\n",
    "Docker needs to run the Docker daeomon with escalated privileges, the kind that allow a user to do pretty much whatever they want.  So if it is your own server or laptop that is fine BUT in a multi-user shared environment there are security issues.\n",
    "\n",
    "Hence [Singularity](http://singularity.lbl.gov/) was created.  "
   ]
  },
  {
   "cell_type": "markdown",
   "metadata": {},
   "source": [
    "### Singularity\n",
    "Singularity was designed for HPC environments with support for MPI and in the latest versions easier GPU support.\n",
    "\n",
    "It does not need escalated privelages to run a contianer and it also imports some of the user environment and things like your /home directory into the container.\n",
    "\n",
    "The workflow is:  You run singularity as an escalated user on your own laptop/server and create and test your container.  You can then move your container to a larger resources and run it without escalated privelages but accessing the software environment that has all your dependencies."
   ]
  },
  {
   "cell_type": "markdown",
   "metadata": {},
   "source": [
    "### Singularity Hub\n",
    "[Singularity Hub](https://singularity-hub.org/) is the Singularity contianer image registry that is similar to Docker Hub.\n",
    "\n",
    "You can pull images from Singularity Hub with:\n",
    "```\n",
    "singularity pull shub://reponame/image-name\n",
    "```"
   ]
  },
  {
   "cell_type": "markdown",
   "metadata": {},
   "source": [
    "### Run Docker Image with Singularity\n",
    "The latest versions of Singularity allow you to pull directly from Docker Hub and convert the docker image to a singularity contianer that you can run.\n",
    "```\n",
    "singularity pull --name my-container-name.simg docker://godlovedc/lolcow\n",
    "```"
   ]
  },
  {
   "cell_type": "markdown",
   "metadata": {},
   "source": [
    "### Tutorials\n",
    "Singularity has some great tutorials and posts on how to Get started with singularity on your own computer and build containers from Recipes and a host of other interesting things.\n",
    "\n",
    "http://singularity.lbl.gov/tutorials"
   ]
  },
  {
   "cell_type": "code",
   "execution_count": null,
   "metadata": {},
   "outputs": [],
   "source": []
  }
 ],
 "metadata": {
  "kernelspec": {
   "display_name": "Python 3",
   "language": "python",
   "name": "python3"
  },
  "language_info": {
   "codemirror_mode": {
    "name": "ipython",
    "version": 3
   },
   "file_extension": ".py",
   "mimetype": "text/x-python",
   "name": "python",
   "nbconvert_exporter": "python",
   "pygments_lexer": "ipython3",
   "version": "3.6.2"
  }
 },
 "nbformat": 4,
 "nbformat_minor": 2
}
