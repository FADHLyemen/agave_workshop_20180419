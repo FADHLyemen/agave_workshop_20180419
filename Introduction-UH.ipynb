{
 "cells": [
  {
   "cell_type": "markdown",
   "metadata": {},
   "source": [
    "# Agave with Python for Compute and Analysis Workshop"
   ]
  },
  {
   "cell_type": "markdown",
   "metadata": {},
   "source": [
    "**Date:** Thursday, April 19th  \n",
    "**Time:** 9:00am - 4:00pm  \n",
    "**Location:** University of Hawaii ITS Building, Room 105A/B  \n",
    "**Website**[Tutorial Website](https://uh-ci.github.io/agave_workshop_20180419/)  "
   ]
  },
  {
   "cell_type": "markdown",
   "metadata": {},
   "source": [
    "# Abstract"
   ]
  },
  {
   "cell_type": "markdown",
   "metadata": {},
   "source": []
  },
  {
   "cell_type": "markdown",
   "metadata": {},
   "source": [
    "# Schedule"
   ]
  },
  {
   "cell_type": "markdown",
   "metadata": {},
   "source": [
    "<table class=\"tg\" style=\"width: 100%\">\n",
    "  <tr>\n",
    "    <th class=\"tg-yw4l\" style=\"min-width: 150px; font-size: 1.5em; text-align:left; \">Time</th>\n",
    "    <th class=\"tg-yw4l\" style=\"min-width: 150px; font-size: 1.5em; text-align:left; \">Presenter</th>\n",
    "    <th class=\"tg-yw4l\" style=\"min-width: 150px; font-size: 1.5em; text-align:left; \">Topic</th>\n",
    "  </tr>\n",
    "  <tr>\n",
    "    <td class=\"tg-yw4l\" style=\"min-width: 150px; font-size: 1.5em; text-align:left; \">09:00AM - 09:15AM</td>\n",
    "    <td class=\"tg-yw4l\" style=\"min-width: 150px; font-size: 1.5em; text-align:left; \">Sean</td>\n",
    "    <td class=\"tg-yw4l\" style=\"min-width: 150px; font-size: 1.5em; text-align:left; \">Introductions</td>\n",
    "  </tr>\n",
    "  <tr>\n",
    "    <td class=\"tg-yw4l\" style=\"min-width: 150px; font-size: 1.5em; text-align:left; \">09:15AM - 9:30AM</td>\n",
    "    <td class=\"tg-yw4l\" style=\"min-width: 150px; font-size: 1.5em; text-align:left; \">Sean</td>\n",
    "    <td class=\"tg-yw4l\" style=\"min-width: 150px; font-size: 1.5em; text-align:left; \">[Jupyter, Sanbox, and Logging In](01-Jupyter-Sandboxes-and-Logging-In.ipynb)</td>\n",
    "  </tr>\n",
    "  <tr>\n",
    "    <td class=\"tg-yw4l\" style=\"min-width: 150px; font-size: 1.5em; text-align:left; \">09:30AM - 10:00AM</td>\n",
    "    <td class=\"tg-yw4l\" style=\"min-width: 150px; font-size: 1.5em; text-align:left; \">Rion</td>\n",
    "    <td class=\"tg-yw4l\" style=\"min-width: 150px; font-size: 1.5em; text-align:left; \">[Agave Overview](https://docs.google.com/presentation/d/1cKXnmUFuGULlSMWsixtitLywcuD9pY7pWaqwdG2FjnI/edit)</td>\n",
    "  </tr>\n",
    "  <tr>\n",
    "    <td class=\"tg-yw4l\" style=\"min-width: 150px; font-size: 1.5em; text-align:left; \">10:00AM - 10:30AM</td>\n",
    "    <td class=\"tg-yw4l\" style=\"min-width: 150px; font-size: 1.5em; text-align:left; \">Sean</td>\n",
    "    <td class=\"tg-yw4l\" style=\"min-width: 150px; font-size: 1.5em; text-align:left; \">[Code, Build, and Test](02-Code-Build-and-Test.ipynb)</td>\n",
    "  </tr>\n",
    "    <tr>\n",
    "    <td class=\"tg-yw4l\" style=\"min-width: 150px; font-size: 1.5em; text-align:left; \">10:30AM - 10:45AM</td>\n",
    "    <td class=\"tg-yw4l\" style=\"min-width: 150px; font-size: 1.5em; text-align:left; \">--</td>\n",
    "    <td class=\"tg-yw4l\" style=\"min-width: 150px; font-size: 1.5em; text-align:left; \">BREAK</td>\n",
    "  </tr>\n",
    "  <tr>\n",
    "    <td class=\"tg-yw4l\" style=\"min-width: 150px; font-size: 1.5em; text-align:left; \">10:45AM - 11:15AM</td>\n",
    "    <td class=\"tg-yw4l\" style=\"min-width: 150px; font-size: 1.5em; text-align:left; \">Rion</td>\n",
    "    <td class=\"tg-yw4l\" style=\"min-width: 150px; font-size: 1.5em; text-align:left; \">[Hands on with Agave](03-Hands-on-with-Agave.ipynb)</td>\n",
    "  </tr>\n",
    "  <tr>\n",
    "    <td class=\"tg-yw4l\" style=\"min-width: 150px; font-size: 1.5em; text-align:left; \">11:15AM - 12:00PM</td>\n",
    "    <td class=\"tg-yw4l\" style=\"min-width: 150px; font-size: 1.5em; text-align:left; \">Sean</td>\n",
    "    <td class=\"tg-yw4l\" style=\"min-width: 150px; font-size: 1.5em; text-align:left; \">[Docker and Singularity](04-Docker-and-Singularity.ipynb)</td>\n",
    "  </tr>\n",
    "  <tr>\n",
    "    <td class=\"tg-yw4l\" style=\"min-width: 150px; font-size: 1.5em; text-align:left; \">12:00PM - 1:00PM</td>\n",
    "    <td class=\"tg-yw4l\" style=\"min-width: 150px; font-size: 1.5em; text-align:left; \">--</td>\n",
    "    <td class=\"tg-yw4l\" style=\"min-width: 150px; font-size: 1.5em; text-align:left; \">LUNCH</td>\n",
    "  </tr>\n",
    "  <tr>\n",
    "    <td class=\"tg-yw4l\" style=\"min-width: 150px; font-size: 1.5em; text-align:left; \">1:00PM - 1:30PM</td>\n",
    "    <td class=\"tg-yw4l\" style=\"min-width: 150px; font-size: 1.5em; text-align:left; \">Rion</td>\n",
    "    <td class=\"tg-yw4l\" style=\"min-width: 150px; font-size: 1.5em; text-align:left; \">[Automation](05-Automation.ipynb)</td>\n",
    "  </tr>\n",
    "  <tr>\n",
    "    <td class=\"tg-yw4l\" style=\"min-width: 150px; font-size: 1.5em; text-align:left; \">1:30PM - 2:00PM</td>\n",
    "    <td class=\"tg-yw4l\" style=\"min-width: 150px; font-size: 1.5em; text-align:left; \">Sean</td>\n",
    "    <td class=\"tg-yw4l\" style=\"min-width: 150px; font-size: 1.5em; text-align:left; \">[Packaging, Publishing, and Portability](06-Packaging-Publishing-Portability.ipynb)</td>\n",
    "  </tr>\n",
    "    <tr>\n",
    "    <td class=\"tg-yw4l\" style=\"min-width: 150px; font-size: 1.5em; text-align:left; \">2:00PM - 2:30PM</td>\n",
    "    <td class=\"tg-yw4l\" style=\"min-width: 150px; font-size: 1.5em; text-align:left; \">Sean</td>\n",
    "    <td class=\"tg-yw4l\" style=\"min-width: 150px; font-size: 1.5em; text-align:left; \">[UH Agave Python](UH-Python.ipynb)</td>\n",
    "  </tr>\n",
    "    <tr>\n",
    "    <td class=\"tg-yw4l\" style=\"min-width: 150px; font-size: 1.5em; text-align:left; \">2:30PM - 2:45PM</td>\n",
    "    <td class=\"tg-yw4l\" style=\"min-width: 150px; font-size: 1.5em; text-align:left; \">--</td>\n",
    "    <td class=\"tg-yw4l\" style=\"min-width: 150px; font-size: 1.5em; text-align:left; \">BREAK</td>\n",
    "  </tr>\n",
    "  <tr>\n",
    "    <td class=\"tg-yw4l\" style=\"min-width: 150px; font-size: 1.5em; text-align:left; \">2:45PM - 3:00PM</td>\n",
    "    <td class=\"tg-yw4l\" style=\"min-width: 150px; font-size: 1.5em; text-align:left; \">Sean</td>\n",
    "    <td class=\"tg-yw4l\" style=\"min-width: 150px; font-size: 1.5em; text-align:left; \">Science Gateways</td>\n",
    "  </tr>\n",
    "    <tr>\n",
    "    <td class=\"tg-yw4l\" style=\"min-width: 150px; font-size: 1.5em; text-align:left; \">3:00PM - 3:45PM</td>\n",
    "    <td class=\"tg-yw4l\" style=\"min-width: 150px; font-size: 1.5em; text-align:left; \">Sean</td>\n",
    "    <td class=\"tg-yw4l\" style=\"min-width: 150px; font-size: 1.5em; text-align:left; \">Agave ToGo</td>\n",
    "  </tr>\n",
    "  <tr>\n",
    "    <td class=\"tg-yw4l\" style=\"min-width: 150px; font-size: 1.5em; text-align:left; \">3:45PM - 4:00PM</td>\n",
    "    <td class=\"tg-yw4l\" style=\"min-width: 150px; font-size: 1.5em; text-align:left; \">Sean</td>\n",
    "    <td class=\"tg-yw4l\" style=\"min-width: 150px; font-size: 1.5em; text-align:left; \">Closing</td>\n",
    "  </tr>\n",
    "</table>"
   ]
  },
  {
   "cell_type": "markdown",
   "metadata": {},
   "source": [
    "## Presenters\n",
    "\n",
    "<h3>Rion Dooley<br><span style=\"font-size: .8em\"><a href=\"https://tacc.utexas.edu/\">Texas Advanced Computing Center</a></span></h3>\n",
    "<div style=\"width:100% margin-top: 15px;\" class=\"biography info-section\">\n",
    "<div style=\"float:left; margin-right: 15px;\" class=\"presenter-photo\">\n",
    "    <img style=\"border-radius: 50%;border: 1px solid #ccc;\" src=\"http://sc17.supercomputing.org/wp-content/linklings_snippets/presenter_pics/wp_presenter_img_735343_rion_dooley.jpg\" scale=\"0\">\n",
    "</div>\n",
    "<div style=\"font-size: 1.6rem; line-height: 1.625;font-weight: bold;\" class=\"biography-header\">Biography</div>\n",
    "<div style=\"font-size: 1.6rem; line-height: 1.625;\" class=\"presenter-biography\">Rion Dooley is principal investigator on the Agave Project a Science-as-a-Service API platform allowing researchers worldwide to manage data, run code, collaborate freely, and integrate their science anywhere. His previous projects span areas of identity management, distributed web security, full-stack application development, data management, cloud services, and high performance computing. He earned his Ph.D. in computer science from Louisiana State University. Rion actively puts his wife and two daughters at the top of his list of accomplishments. He hopes his work can someday edge out dancing teddy bears and smear-proof lipstick on their lists of favorite inventions.</div>\n",
    "</div>\n",
    "\n",
    "<h3>Sean Cleveland<br><span style=\"font-size: .8em\"><a href=\"https://hawaii.edu/\">University of Hawaii</a></span></h3>\n",
    "<div style=\"width:100% margin-top: 15px;\" class=\"biography info-section\">\n",
    "<div style=\"float:left; margin-right: 15px;\" class=\"presenter-photo\" >\n",
    "    <img style=\"border-radius: 50%;border: 1px solid #ccc;\" src=\"https://aciref.org/wp-content/uploads/2015/07/bio-pic.jpg\" scale=\"0\" width=\"220px\">\n",
    "</div>\n",
    "<div style=\"font-size: 1.6rem; line-height: 1.625;font-weight: bold;\" class=\"biography-header\">Biography</div>\n",
    "<div style=\"font-size: 1.6rem; line-height: 1.625;\" class=\"presenter-biography\">Sean Cleveland is a Cyberinfrastructure Research Scientist in the Department of Cyberinfrastructure within Information Technology Services at the University of Hawaii. He focuses on supporting the research mission by providing technology assistance and solutions for researchers across the University of Hawaii system.</div>\n",
    "</div>\n",
    "\n"
   ]
  },
  {
   "cell_type": "markdown",
   "metadata": {},
   "source": [
    "## Acknowledgement  \n",
    "\n",
    "This material is based upon work supported by the National Science Foundation Plant Cyberinfrastructure Program (DBI-0735191), the National Science Foundation Plant Genome Research Program (IOS-1237931 and IOS-1237931), the National Science Foundation Division of Biological Infrastructure (DBI-1262414), the National Science Foundation Division of Advanced CyberInfrastructure (1127210), the National Science Foundation Computing and Communication Foundations (1539567), and the National Institute of Allergy and Infectious Diseases (1R01A1097403).\n"
   ]
  },
  {
   "cell_type": "markdown",
   "metadata": {
    "collapsed": true
   },
   "source": [
    "## Special thanks\n",
    "\n",
    "Special thanks go out to ***Steven Brandt*** from LSU for his contributions to these materials. "
   ]
  },
  {
   "cell_type": "code",
   "execution_count": null,
   "metadata": {},
   "outputs": [],
   "source": []
  }
 ],
 "metadata": {
  "kernelspec": {
   "display_name": "Python 3",
   "language": "python",
   "name": "python3"
  },
  "language_info": {
   "codemirror_mode": {
    "name": "ipython",
    "version": 3
   },
   "file_extension": ".py",
   "mimetype": "text/x-python",
   "name": "python",
   "nbconvert_exporter": "python",
   "pygments_lexer": "ipython3",
   "version": "3.6.2"
  }
 },
 "nbformat": 4,
 "nbformat_minor": 2
}
